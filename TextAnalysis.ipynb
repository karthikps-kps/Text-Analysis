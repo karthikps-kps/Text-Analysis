{
  "nbformat": 4,
  "nbformat_minor": 0,
  "metadata": {
    "colab": {
      "provenance": []
    },
    "kernelspec": {
      "name": "python3",
      "display_name": "Python 3"
    },
    "language_info": {
      "name": "python"
    }
  },
  "cells": [
    {
      "cell_type": "code",
      "execution_count": null,
      "metadata": {
        "id": "Bci7Qh2gDwa_"
      },
      "outputs": [],
      "source": [
        "import pandas as pd"
      ]
    },
    {
      "cell_type": "code",
      "source": [
        "import tensorflow as tf"
      ],
      "metadata": {
        "id": "m-Bppx9-JTvU"
      },
      "execution_count": null,
      "outputs": []
    },
    {
      "cell_type": "code",
      "source": [
        "from sklearn.model_selection import train_test_split\n",
        "from sklearn.feature_extraction.text import TfidfVectorizer\n",
        "from sklearn.naive_bayes import MultinomialNB\n",
        "from sklearn.metrics import accuracy_score\n",
        "from tensorflow.keras.models import Sequential\n",
        "from tensorflow.keras.layers import Embedding, LSTM, Dense\n",
        "from tensorflow.keras.preprocessing.sequence import pad_sequences"
      ],
      "metadata": {
        "id": "6VhMgUrCD_Oj"
      },
      "execution_count": null,
      "outputs": []
    },
    {
      "cell_type": "code",
      "source": [
        "df = pd.read_csv(\"/content/IMDB Dataset.csv\",encoding='ISO-8859-1')"
      ],
      "metadata": {
        "id": "FBAy8lJeEVl3"
      },
      "execution_count": null,
      "outputs": []
    },
    {
      "cell_type": "code",
      "source": [
        "df['sentiment'] = df['sentiment'].map({'positive': 1, 'negative': 0})"
      ],
      "metadata": {
        "id": "bV8oSyDbHJrt"
      },
      "execution_count": null,
      "outputs": []
    },
    {
      "cell_type": "code",
      "source": [
        "# Splitting dataset into train and test sets\n",
        "X_train, X_test, y_train, y_test = train_test_split(df['review'], df['sentiment'], test_size=0.2, random_state=42)\n"
      ],
      "metadata": {
        "id": "AqO7prcaImqG"
      },
      "execution_count": null,
      "outputs": []
    },
    {
      "cell_type": "code",
      "source": [
        "\n",
        "# Feature engineering using TF-IDF\n",
        "tfidf_vectorizer = TfidfVectorizer(max_features=5000)\n",
        "X_train_tfidf = tfidf_vectorizer.fit_transform(X_train)\n",
        "X_test_tfidf = tfidf_vectorizer.transform(X_test)"
      ],
      "metadata": {
        "id": "zJ1259U5Isbv"
      },
      "execution_count": null,
      "outputs": []
    },
    {
      "cell_type": "code",
      "source": [
        "# Machine Learning Model (Multinomial Naive Bayes)\n",
        "clf = MultinomialNB()\n",
        "clf.fit(X_train_tfidf, y_train)\n",
        "ml_pred = clf.predict(X_test_tfidf)\n",
        "ml_accuracy = accuracy_score(y_test, ml_pred)\n",
        "print(\"Machine Learning Accuracy:\", ml_accuracy)\n",
        "\n",
        "# Deep Learning Model (LSTM)\n",
        "max_features = 5000\n",
        "max_len = 200\n",
        "embedding_dim = 128"
      ],
      "metadata": {
        "colab": {
          "base_uri": "https://localhost:8080/"
        },
        "id": "JuzevyNFI2St",
        "outputId": "b2c3cd29-7759-4a96-a465-15821f6110b5"
      },
      "execution_count": null,
      "outputs": [
        {
          "output_type": "stream",
          "name": "stdout",
          "text": [
            "Machine Learning Accuracy: 0.8516\n"
          ]
        }
      ]
    },
    {
      "cell_type": "code",
      "source": [
        "tokenizer = tf.keras.preprocessing.text.Tokenizer(num_words=max_features)\n",
        "tokenizer.fit_on_texts(X_train)\n",
        "sequences_train = tokenizer.texts_to_sequences(X_train)\n",
        "sequences_test = tokenizer.texts_to_sequences(X_test)\n",
        "\n",
        "X_train_lstm = pad_sequences(sequences_train, maxlen=max_len)\n",
        "X_test_lstm = pad_sequences(sequences_test, maxlen=max_len)"
      ],
      "metadata": {
        "id": "1cPJVqt3I_ZE"
      },
      "execution_count": null,
      "outputs": []
    },
    {
      "cell_type": "code",
      "source": [
        "model = Sequential()\n",
        "model.add(Embedding(max_features, embedding_dim, input_length=max_len))\n",
        "model.add(LSTM(128))\n",
        "model.add(Dense(1, activation='sigmoid'))\n",
        "model.compile(optimizer='adam', loss='binary_crossentropy', metrics=['accuracy'])\n",
        "model.fit(X_train_lstm, y_train, epochs=3, batch_size=64, validation_split=0.2)\n",
        "\n",
        "dl_accuracy = model.evaluate(X_test_lstm, y_test)[1]\n",
        "print(\"Deep Learning Accuracy:\", dl_accuracy)"
      ],
      "metadata": {
        "colab": {
          "base_uri": "https://localhost:8080/"
        },
        "id": "48qmUOLSJHzT",
        "outputId": "5fdc43a0-ae62-4dc8-92d0-592ad19aab19"
      },
      "execution_count": null,
      "outputs": [
        {
          "output_type": "stream",
          "name": "stdout",
          "text": [
            "Epoch 1/3\n",
            "500/500 [==============================] - 252s 492ms/step - loss: 0.3956 - accuracy: 0.8188 - val_loss: 0.3276 - val_accuracy: 0.8565\n",
            "Epoch 2/3\n",
            "500/500 [==============================] - 250s 500ms/step - loss: 0.2657 - accuracy: 0.8949 - val_loss: 0.3423 - val_accuracy: 0.8641\n",
            "Epoch 3/3\n",
            "500/500 [==============================] - 247s 495ms/step - loss: 0.2246 - accuracy: 0.9118 - val_loss: 0.3151 - val_accuracy: 0.8752\n",
            "313/313 [==============================] - 39s 123ms/step - loss: 0.2927 - accuracy: 0.8798\n",
            "Deep Learning Accuracy: 0.879800021648407\n"
          ]
        }
      ]
    },
    {
      "cell_type": "code",
      "source": [],
      "metadata": {
        "id": "OMfYqDcMJioC"
      },
      "execution_count": null,
      "outputs": []
    }
  ]
}